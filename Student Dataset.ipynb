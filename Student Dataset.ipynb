{
 "cells": [
  {
   "cell_type": "code",
   "execution_count": 8,
   "id": "1b28f649-d806-4f16-9918-fd24677864e6",
   "metadata": {},
   "outputs": [],
   "source": [
    "import pandas as pd\n",
    "import seaborn as sns\n",
    "import matplotlib.pyplot as plt"
   ]
  },
  {
   "cell_type": "code",
   "execution_count": 9,
   "id": "559bc1cb-9572-4875-be80-6a03de625d1b",
   "metadata": {},
   "outputs": [],
   "source": [
    "df = pd.read_csv(\"bi.csv\", encoding=\"latin1\")"
   ]
  },
  {
   "cell_type": "markdown",
   "id": "e646f0f8-c53b-488b-a98e-99399a3b7f42",
   "metadata": {},
   "source": [
    "# Part 1: Data Cleaning"
   ]
  },
  {
   "cell_type": "markdown",
   "id": "d4e2f524-9a79-44de-9586-001aaaee5a7e",
   "metadata": {},
   "source": [
    "## Check dataset structure"
   ]
  },
  {
   "cell_type": "code",
   "execution_count": 12,
   "id": "07e3fc9c-c04e-49ac-a045-ce59a07242bc",
   "metadata": {},
   "outputs": [
    {
     "data": {
      "text/html": [
       "<div>\n",
       "<style scoped>\n",
       "    .dataframe tbody tr th:only-of-type {\n",
       "        vertical-align: middle;\n",
       "    }\n",
       "\n",
       "    .dataframe tbody tr th {\n",
       "        vertical-align: top;\n",
       "    }\n",
       "\n",
       "    .dataframe thead th {\n",
       "        text-align: right;\n",
       "    }\n",
       "</style>\n",
       "<table border=\"1\" class=\"dataframe\">\n",
       "  <thead>\n",
       "    <tr style=\"text-align: right;\">\n",
       "      <th></th>\n",
       "      <th>fNAME</th>\n",
       "      <th>lNAME</th>\n",
       "      <th>Age</th>\n",
       "      <th>gender</th>\n",
       "      <th>country</th>\n",
       "      <th>residence</th>\n",
       "      <th>entryEXAM</th>\n",
       "      <th>prevEducation</th>\n",
       "      <th>studyHOURS</th>\n",
       "      <th>Python</th>\n",
       "      <th>DB</th>\n",
       "    </tr>\n",
       "  </thead>\n",
       "  <tbody>\n",
       "    <tr>\n",
       "      <th>0</th>\n",
       "      <td>Christina</td>\n",
       "      <td>Binger</td>\n",
       "      <td>44</td>\n",
       "      <td>Female</td>\n",
       "      <td>Norway</td>\n",
       "      <td>Private</td>\n",
       "      <td>72</td>\n",
       "      <td>Masters</td>\n",
       "      <td>158</td>\n",
       "      <td>59.0</td>\n",
       "      <td>55</td>\n",
       "    </tr>\n",
       "    <tr>\n",
       "      <th>1</th>\n",
       "      <td>Alex</td>\n",
       "      <td>Walekhwa</td>\n",
       "      <td>60</td>\n",
       "      <td>M</td>\n",
       "      <td>Kenya</td>\n",
       "      <td>Private</td>\n",
       "      <td>79</td>\n",
       "      <td>Diploma</td>\n",
       "      <td>150</td>\n",
       "      <td>60.0</td>\n",
       "      <td>75</td>\n",
       "    </tr>\n",
       "    <tr>\n",
       "      <th>2</th>\n",
       "      <td>Philip</td>\n",
       "      <td>Leo</td>\n",
       "      <td>25</td>\n",
       "      <td>Male</td>\n",
       "      <td>Uganda</td>\n",
       "      <td>Sognsvann</td>\n",
       "      <td>55</td>\n",
       "      <td>HighSchool</td>\n",
       "      <td>130</td>\n",
       "      <td>74.0</td>\n",
       "      <td>50</td>\n",
       "    </tr>\n",
       "    <tr>\n",
       "      <th>3</th>\n",
       "      <td>Shoni</td>\n",
       "      <td>Hlongwane</td>\n",
       "      <td>22</td>\n",
       "      <td>F</td>\n",
       "      <td>Rsa</td>\n",
       "      <td>Sognsvann</td>\n",
       "      <td>40</td>\n",
       "      <td>High School</td>\n",
       "      <td>120</td>\n",
       "      <td>NaN</td>\n",
       "      <td>44</td>\n",
       "    </tr>\n",
       "    <tr>\n",
       "      <th>4</th>\n",
       "      <td>Maria</td>\n",
       "      <td>Kedibone</td>\n",
       "      <td>23</td>\n",
       "      <td>Female</td>\n",
       "      <td>South Africa</td>\n",
       "      <td>Sognsvann</td>\n",
       "      <td>65</td>\n",
       "      <td>High School</td>\n",
       "      <td>122</td>\n",
       "      <td>91.0</td>\n",
       "      <td>80</td>\n",
       "    </tr>\n",
       "  </tbody>\n",
       "</table>\n",
       "</div>"
      ],
      "text/plain": [
       "       fNAME      lNAME  Age  gender       country  residence  entryEXAM  \\\n",
       "0  Christina     Binger   44  Female        Norway    Private         72   \n",
       "1       Alex   Walekhwa   60       M         Kenya    Private         79   \n",
       "2     Philip        Leo   25    Male        Uganda  Sognsvann         55   \n",
       "3      Shoni  Hlongwane   22       F           Rsa  Sognsvann         40   \n",
       "4      Maria   Kedibone   23  Female  South Africa  Sognsvann         65   \n",
       "\n",
       "  prevEducation  studyHOURS  Python  DB  \n",
       "0       Masters         158    59.0  55  \n",
       "1       Diploma         150    60.0  75  \n",
       "2    HighSchool         130    74.0  50  \n",
       "3   High School         120     NaN  44  \n",
       "4   High School         122    91.0  80  "
      ]
     },
     "execution_count": 12,
     "metadata": {},
     "output_type": "execute_result"
    }
   ],
   "source": [
    "df.head()"
   ]
  },
  {
   "cell_type": "code",
   "execution_count": 13,
   "id": "fcee1222-edc4-4fb3-91f6-f0f9defcb46f",
   "metadata": {},
   "outputs": [
    {
     "data": {
      "text/plain": [
       "(77, 11)"
      ]
     },
     "execution_count": 13,
     "metadata": {},
     "output_type": "execute_result"
    }
   ],
   "source": [
    "df.shape"
   ]
  },
  {
   "cell_type": "code",
   "execution_count": 14,
   "id": "15f750d2-db4e-49b2-8049-507ce88a9019",
   "metadata": {},
   "outputs": [
    {
     "name": "stdout",
     "output_type": "stream",
     "text": [
      "<class 'pandas.core.frame.DataFrame'>\n",
      "RangeIndex: 77 entries, 0 to 76\n",
      "Data columns (total 11 columns):\n",
      " #   Column         Non-Null Count  Dtype  \n",
      "---  ------         --------------  -----  \n",
      " 0   fNAME          77 non-null     object \n",
      " 1   lNAME          77 non-null     object \n",
      " 2   Age            77 non-null     int64  \n",
      " 3   gender         77 non-null     object \n",
      " 4   country        77 non-null     object \n",
      " 5   residence      77 non-null     object \n",
      " 6   entryEXAM      77 non-null     int64  \n",
      " 7   prevEducation  77 non-null     object \n",
      " 8   studyHOURS     77 non-null     int64  \n",
      " 9   Python         75 non-null     float64\n",
      " 10  DB             77 non-null     int64  \n",
      "dtypes: float64(1), int64(4), object(6)\n",
      "memory usage: 6.7+ KB\n"
     ]
    }
   ],
   "source": [
    "df.info()"
   ]
  },
  {
   "cell_type": "markdown",
   "id": "f08315d1-21fa-46a0-8322-2e2be5180736",
   "metadata": {},
   "source": [
    "### Question: Which columns should be categorical and which should be numerical?\n",
    "Categorical columns: fNAME, lNAME, gender, country, residence, prevEducation - \n",
    "Numerical columns: Age, entryEXAM, studyHOURS, Python, DB"
   ]
  },
  {
   "cell_type": "markdown",
   "id": "6ba84627-7fe5-4ccf-b444-2fc0cc3f8a07",
   "metadata": {},
   "source": [
    "## Detect inconsistent categories"
   ]
  },
  {
   "cell_type": "code",
   "execution_count": 17,
   "id": "71f92514-895d-49ff-8ccb-7b10a95f2339",
   "metadata": {},
   "outputs": [
    {
     "data": {
      "text/plain": [
       "array(['Female', 'M', 'Male', 'F', 'female', 'male'], dtype=object)"
      ]
     },
     "execution_count": 17,
     "metadata": {},
     "output_type": "execute_result"
    }
   ],
   "source": [
    "df['gender'].unique()"
   ]
  },
  {
   "cell_type": "code",
   "execution_count": 18,
   "id": "8c3e31af-dd09-42a4-8b6c-4d0b539a703d",
   "metadata": {},
   "outputs": [
    {
     "data": {
      "text/plain": [
       "array(['Norway', 'Kenya', 'Uganda', 'Rsa', 'South Africa', 'Norge',\n",
       "       'norway', 'Denmark', 'Netherlands', 'Italy', 'Spain', 'UK',\n",
       "       'Somali', 'Nigeria', 'Germany', 'France'], dtype=object)"
      ]
     },
     "execution_count": 18,
     "metadata": {},
     "output_type": "execute_result"
    }
   ],
   "source": [
    "df['country'].unique()"
   ]
  },
  {
   "cell_type": "code",
   "execution_count": 19,
   "id": "dd479e18-1622-4e84-8bcf-d1f5fb8b64a4",
   "metadata": {},
   "outputs": [
    {
     "data": {
      "text/plain": [
       "array(['Masters', 'Diploma', 'HighSchool', 'High School', 'Bachelors',\n",
       "       'Barrrchelors', 'diploma', 'DIPLOMA', 'Diplomaaa', 'Doctorate'],\n",
       "      dtype=object)"
      ]
     },
     "execution_count": 19,
     "metadata": {},
     "output_type": "execute_result"
    }
   ],
   "source": [
    "df['prevEducation'].unique()"
   ]
  },
  {
   "cell_type": "code",
   "execution_count": 20,
   "id": "a8bb27ca-79ae-4794-9508-fe9a1fa3014d",
   "metadata": {},
   "outputs": [],
   "source": [
    "df['gender'] = df['gender'].str.strip().str.title()\n",
    "df['gender'] = df['gender'].replace({'M': 'Male', 'F': 'Female'})\n",
    "\n",
    "df['country'] = df['country'].str.strip().str.title()\n",
    "df['country'] = df['country'].replace({\n",
    "    'Rsa': 'South Africa',\n",
    "    'Norge': 'Norway',\n",
    "    'Uk': 'UK'})\n",
    "\n",
    "df['prevEducation'] = df['prevEducation'].str.strip().str.title()\n",
    "df['prevEducation'] = df['prevEducation'].replace({\n",
    "    'Barrrchelors': 'Bachelors',\n",
    "    'Diplomaaa': 'Diploma',\n",
    "    'Highschool': 'High School'})"
   ]
  },
  {
   "cell_type": "markdown",
   "id": "d32a512c-f2cb-4ad1-a48d-bd7dbc53bcc0",
   "metadata": {},
   "source": [
    "## Handle duplicates"
   ]
  },
  {
   "cell_type": "code",
   "execution_count": 22,
   "id": "3a3e8fbe-25d3-4200-ad98-21a76dd37b70",
   "metadata": {},
   "outputs": [
    {
     "data": {
      "text/plain": [
       "0"
      ]
     },
     "execution_count": 22,
     "metadata": {},
     "output_type": "execute_result"
    }
   ],
   "source": [
    "df.duplicated().sum()"
   ]
  },
  {
   "cell_type": "code",
   "execution_count": 23,
   "id": "2cae0bfa-f745-46ca-aab1-2c7bc25e89e4",
   "metadata": {},
   "outputs": [
    {
     "data": {
      "text/html": [
       "<div>\n",
       "<style scoped>\n",
       "    .dataframe tbody tr th:only-of-type {\n",
       "        vertical-align: middle;\n",
       "    }\n",
       "\n",
       "    .dataframe tbody tr th {\n",
       "        vertical-align: top;\n",
       "    }\n",
       "\n",
       "    .dataframe thead th {\n",
       "        text-align: right;\n",
       "    }\n",
       "</style>\n",
       "<table border=\"1\" class=\"dataframe\">\n",
       "  <thead>\n",
       "    <tr style=\"text-align: right;\">\n",
       "      <th></th>\n",
       "      <th>fNAME</th>\n",
       "      <th>lNAME</th>\n",
       "      <th>Age</th>\n",
       "      <th>gender</th>\n",
       "      <th>country</th>\n",
       "      <th>residence</th>\n",
       "      <th>entryEXAM</th>\n",
       "      <th>prevEducation</th>\n",
       "      <th>studyHOURS</th>\n",
       "      <th>Python</th>\n",
       "      <th>DB</th>\n",
       "    </tr>\n",
       "  </thead>\n",
       "  <tbody>\n",
       "    <tr>\n",
       "      <th>0</th>\n",
       "      <td>Christina</td>\n",
       "      <td>Binger</td>\n",
       "      <td>44</td>\n",
       "      <td>Female</td>\n",
       "      <td>Norway</td>\n",
       "      <td>Private</td>\n",
       "      <td>72</td>\n",
       "      <td>Masters</td>\n",
       "      <td>158</td>\n",
       "      <td>59.0</td>\n",
       "      <td>55</td>\n",
       "    </tr>\n",
       "    <tr>\n",
       "      <th>1</th>\n",
       "      <td>Alex</td>\n",
       "      <td>Walekhwa</td>\n",
       "      <td>60</td>\n",
       "      <td>Male</td>\n",
       "      <td>Kenya</td>\n",
       "      <td>Private</td>\n",
       "      <td>79</td>\n",
       "      <td>Diploma</td>\n",
       "      <td>150</td>\n",
       "      <td>60.0</td>\n",
       "      <td>75</td>\n",
       "    </tr>\n",
       "    <tr>\n",
       "      <th>2</th>\n",
       "      <td>Philip</td>\n",
       "      <td>Leo</td>\n",
       "      <td>25</td>\n",
       "      <td>Male</td>\n",
       "      <td>Uganda</td>\n",
       "      <td>Sognsvann</td>\n",
       "      <td>55</td>\n",
       "      <td>High School</td>\n",
       "      <td>130</td>\n",
       "      <td>74.0</td>\n",
       "      <td>50</td>\n",
       "    </tr>\n",
       "    <tr>\n",
       "      <th>3</th>\n",
       "      <td>Shoni</td>\n",
       "      <td>Hlongwane</td>\n",
       "      <td>22</td>\n",
       "      <td>Female</td>\n",
       "      <td>South Africa</td>\n",
       "      <td>Sognsvann</td>\n",
       "      <td>40</td>\n",
       "      <td>High School</td>\n",
       "      <td>120</td>\n",
       "      <td>NaN</td>\n",
       "      <td>44</td>\n",
       "    </tr>\n",
       "    <tr>\n",
       "      <th>4</th>\n",
       "      <td>Maria</td>\n",
       "      <td>Kedibone</td>\n",
       "      <td>23</td>\n",
       "      <td>Female</td>\n",
       "      <td>South Africa</td>\n",
       "      <td>Sognsvann</td>\n",
       "      <td>65</td>\n",
       "      <td>High School</td>\n",
       "      <td>122</td>\n",
       "      <td>91.0</td>\n",
       "      <td>80</td>\n",
       "    </tr>\n",
       "    <tr>\n",
       "      <th>...</th>\n",
       "      <td>...</td>\n",
       "      <td>...</td>\n",
       "      <td>...</td>\n",
       "      <td>...</td>\n",
       "      <td>...</td>\n",
       "      <td>...</td>\n",
       "      <td>...</td>\n",
       "      <td>...</td>\n",
       "      <td>...</td>\n",
       "      <td>...</td>\n",
       "      <td>...</td>\n",
       "    </tr>\n",
       "    <tr>\n",
       "      <th>72</th>\n",
       "      <td>Clara</td>\n",
       "      <td>Bernard</td>\n",
       "      <td>43</td>\n",
       "      <td>Female</td>\n",
       "      <td>France</td>\n",
       "      <td>Private</td>\n",
       "      <td>80</td>\n",
       "      <td>Bachelors</td>\n",
       "      <td>150</td>\n",
       "      <td>75.0</td>\n",
       "      <td>43</td>\n",
       "    </tr>\n",
       "    <tr>\n",
       "      <th>73</th>\n",
       "      <td>Julian</td>\n",
       "      <td>Nielsen</td>\n",
       "      <td>31</td>\n",
       "      <td>Male</td>\n",
       "      <td>Denmark</td>\n",
       "      <td>Sognsvann</td>\n",
       "      <td>90</td>\n",
       "      <td>Masters</td>\n",
       "      <td>158</td>\n",
       "      <td>84.0</td>\n",
       "      <td>83</td>\n",
       "    </tr>\n",
       "    <tr>\n",
       "      <th>74</th>\n",
       "      <td>Sophie</td>\n",
       "      <td>Brown</td>\n",
       "      <td>33</td>\n",
       "      <td>Female</td>\n",
       "      <td>UK</td>\n",
       "      <td>Sognsvann</td>\n",
       "      <td>96</td>\n",
       "      <td>Masters</td>\n",
       "      <td>158</td>\n",
       "      <td>85.0</td>\n",
       "      <td>90</td>\n",
       "    </tr>\n",
       "    <tr>\n",
       "      <th>75</th>\n",
       "      <td>Leon</td>\n",
       "      <td>Bauer</td>\n",
       "      <td>35</td>\n",
       "      <td>Male</td>\n",
       "      <td>Germany</td>\n",
       "      <td>Sognsvann</td>\n",
       "      <td>90</td>\n",
       "      <td>Masters</td>\n",
       "      <td>160</td>\n",
       "      <td>87.0</td>\n",
       "      <td>74</td>\n",
       "    </tr>\n",
       "    <tr>\n",
       "      <th>76</th>\n",
       "      <td>Mohammed</td>\n",
       "      <td>Salim</td>\n",
       "      <td>31</td>\n",
       "      <td>Male</td>\n",
       "      <td>Somali</td>\n",
       "      <td>Sognsvann</td>\n",
       "      <td>35</td>\n",
       "      <td>Masters</td>\n",
       "      <td>144</td>\n",
       "      <td>72.0</td>\n",
       "      <td>90</td>\n",
       "    </tr>\n",
       "  </tbody>\n",
       "</table>\n",
       "<p>77 rows × 11 columns</p>\n",
       "</div>"
      ],
      "text/plain": [
       "        fNAME      lNAME  Age  gender       country  residence  entryEXAM  \\\n",
       "0   Christina     Binger   44  Female        Norway    Private         72   \n",
       "1        Alex   Walekhwa   60    Male         Kenya    Private         79   \n",
       "2      Philip        Leo   25    Male        Uganda  Sognsvann         55   \n",
       "3       Shoni  Hlongwane   22  Female  South Africa  Sognsvann         40   \n",
       "4       Maria   Kedibone   23  Female  South Africa  Sognsvann         65   \n",
       "..        ...        ...  ...     ...           ...        ...        ...   \n",
       "72      Clara    Bernard   43  Female        France    Private         80   \n",
       "73     Julian    Nielsen   31    Male       Denmark  Sognsvann         90   \n",
       "74     Sophie      Brown   33  Female            UK  Sognsvann         96   \n",
       "75       Leon      Bauer   35    Male       Germany  Sognsvann         90   \n",
       "76   Mohammed      Salim   31    Male        Somali  Sognsvann         35   \n",
       "\n",
       "   prevEducation  studyHOURS  Python  DB  \n",
       "0        Masters         158    59.0  55  \n",
       "1        Diploma         150    60.0  75  \n",
       "2    High School         130    74.0  50  \n",
       "3    High School         120     NaN  44  \n",
       "4    High School         122    91.0  80  \n",
       "..           ...         ...     ...  ..  \n",
       "72     Bachelors         150    75.0  43  \n",
       "73       Masters         158    84.0  83  \n",
       "74       Masters         158    85.0  90  \n",
       "75       Masters         160    87.0  74  \n",
       "76       Masters         144    72.0  90  \n",
       "\n",
       "[77 rows x 11 columns]"
      ]
     },
     "execution_count": 23,
     "metadata": {},
     "output_type": "execute_result"
    }
   ],
   "source": [
    "df.drop_duplicates()"
   ]
  },
  {
   "cell_type": "markdown",
   "id": "cb1a3671-e833-4e4b-ab9b-6c7b904fab54",
   "metadata": {},
   "source": [
    "# Part 2: Missing Data"
   ]
  },
  {
   "cell_type": "markdown",
   "id": "7e2fe334-bc3e-4db2-a390-c8b61a78a60d",
   "metadata": {},
   "source": [
    "## Identify missing values"
   ]
  },
  {
   "cell_type": "code",
   "execution_count": 26,
   "id": "49450f35-0042-439e-bbd2-ddc81eef2567",
   "metadata": {},
   "outputs": [
    {
     "data": {
      "text/plain": [
       "fNAME            0\n",
       "lNAME            0\n",
       "Age              0\n",
       "gender           0\n",
       "country          0\n",
       "residence        0\n",
       "entryEXAM        0\n",
       "prevEducation    0\n",
       "studyHOURS       0\n",
       "Python           2\n",
       "DB               0\n",
       "dtype: int64"
      ]
     },
     "execution_count": 26,
     "metadata": {},
     "output_type": "execute_result"
    }
   ],
   "source": [
    "df.isnull().sum()"
   ]
  },
  {
   "cell_type": "markdown",
   "id": "c2e9bd46-acc3-496f-a5e6-d693299c88f1",
   "metadata": {},
   "source": [
    "### Question: Which columns are most affected by missing values?\n",
    "Python: it has 2 missing values"
   ]
  },
  {
   "cell_type": "markdown",
   "id": "74590283-50e0-436b-9832-e3da793e84c2",
   "metadata": {},
   "source": [
    "## Impute missing values"
   ]
  },
  {
   "cell_type": "code",
   "execution_count": 29,
   "id": "e21281a9-09ab-4177-a95b-bc22bb28761e",
   "metadata": {},
   "outputs": [],
   "source": [
    "# Numerical using mean\n",
    "df['Python'] = df['Python'].fillna(df['Python'].mean())\n",
    "df['DB'] = df['DB'].fillna(df['DB'].mean())\n",
    "\n",
    "# Numerical using median\n",
    "df['Python'] = df['Python'].fillna(df['Python'].median())\n",
    "df['DB'] = df['DB'].fillna(df['DB'].median())\n",
    "\n",
    "# Categorical \n",
    "df['gender'] = df['gender'].fillna(df['gender'].mode()[0])\n",
    "df['country'] = df['country'].fillna(df['country'].mode()[0])"
   ]
  },
  {
   "cell_type": "markdown",
   "id": "53a95da1-ac7a-44a1-9351-0b96fba677bf",
   "metadata": {},
   "source": [
    "### Task: Try both methods and compare results\n",
    "Mean: Replaces NaN with average Python or DB score.\n",
    "\n",
    "Median: Replaces NaN with middle Python or DB score.\n",
    "\n",
    "Mode: Replaces missing categorical values with most common category."
   ]
  },
  {
   "cell_type": "code",
   "execution_count": 31,
   "id": "c2848b05-ae8d-47c7-b54c-1d4c950407d5",
   "metadata": {},
   "outputs": [
    {
     "name": "stdout",
     "output_type": "stream",
     "text": [
      "After Mean:\n",
      " fNAME            0\n",
      "lNAME            0\n",
      "Age              0\n",
      "gender           0\n",
      "country          0\n",
      "residence        0\n",
      "entryEXAM        0\n",
      "prevEducation    0\n",
      "studyHOURS       0\n",
      "Python           0\n",
      "DB               0\n",
      "dtype: int64\n",
      "\n",
      "After Median:\n",
      " fNAME            0\n",
      "lNAME            0\n",
      "Age              0\n",
      "gender           0\n",
      "country          0\n",
      "residence        0\n",
      "entryEXAM        0\n",
      "prevEducation    0\n",
      "studyHOURS       0\n",
      "Python           0\n",
      "DB               0\n",
      "dtype: int64\n",
      "\n",
      "After Mode:\n",
      " fNAME            0\n",
      "lNAME            0\n",
      "Age              0\n",
      "gender           0\n",
      "country          0\n",
      "residence        0\n",
      "entryEXAM        0\n",
      "prevEducation    0\n",
      "studyHOURS       0\n",
      "Python           0\n",
      "DB               0\n",
      "dtype: int64\n"
     ]
    }
   ],
   "source": [
    "print(\"After Mean:\\n\", df.isnull().sum())\n",
    "print(\"\\nAfter Median:\\n\", df.isnull().sum())\n",
    "print(\"\\nAfter Mode:\\n\", df.isnull().sum())"
   ]
  },
  {
   "cell_type": "markdown",
   "id": "16b5fa9f-3700-42b6-b9f4-1814e40ecc03",
   "metadata": {},
   "source": [
    "# Part 3: Outliers"
   ]
  },
  {
   "cell_type": "markdown",
   "id": "94ec5b6e-d29f-43cb-b17c-f87913e752c4",
   "metadata": {},
   "source": [
    "## Detect outliers"
   ]
  },
  {
   "cell_type": "markdown",
   "id": "ceaa3f85-6c91-4da1-9e90-69fa5645b555",
   "metadata": {},
   "source": [
    "### Question: Which values in studyHOURS, Python, or DB look unrealistic?"
   ]
  },
  {
   "cell_type": "code",
   "execution_count": 35,
   "id": "58da0a95-1314-4594-9ffa-12fba6912d69",
   "metadata": {},
   "outputs": [
    {
     "data": {
      "text/plain": [
       "count     77.000000\n",
       "mean     149.714286\n",
       "std       12.743272\n",
       "min      114.000000\n",
       "25%      144.000000\n",
       "50%      156.000000\n",
       "75%      158.000000\n",
       "max      160.000000\n",
       "Name: studyHOURS, dtype: float64"
      ]
     },
     "execution_count": 35,
     "metadata": {},
     "output_type": "execute_result"
    }
   ],
   "source": [
    "df['studyHOURS'].describe()"
   ]
  },
  {
   "cell_type": "code",
   "execution_count": 36,
   "id": "1886c978-6b20-410c-ad89-85162f65aac1",
   "metadata": {},
   "outputs": [
    {
     "data": {
      "text/plain": [
       "count    77.000000\n",
       "mean     75.853333\n",
       "std      15.206208\n",
       "min      15.000000\n",
       "25%      72.000000\n",
       "50%      81.000000\n",
       "75%      85.000000\n",
       "max      91.000000\n",
       "Name: Python, dtype: float64"
      ]
     },
     "execution_count": 36,
     "metadata": {},
     "output_type": "execute_result"
    }
   ],
   "source": [
    "df['Python'].describe()"
   ]
  },
  {
   "cell_type": "code",
   "execution_count": 37,
   "id": "f9bf4702-8230-484d-815d-381faa19a712",
   "metadata": {},
   "outputs": [
    {
     "data": {
      "text/plain": [
       "count     77.000000\n",
       "mean      69.467532\n",
       "std       17.033701\n",
       "min       30.000000\n",
       "25%       56.000000\n",
       "50%       71.000000\n",
       "75%       83.000000\n",
       "max      100.000000\n",
       "Name: DB, dtype: float64"
      ]
     },
     "execution_count": 37,
     "metadata": {},
     "output_type": "execute_result"
    }
   ],
   "source": [
    "df['DB'].describe()"
   ]
  },
  {
   "cell_type": "markdown",
   "id": "5cfbf0ac-3ff7-40e7-9315-2a2c1bb31f0c",
   "metadata": {},
   "source": [
    "### From this we found that:\n",
    "Study Hours\n",
    "min = 114\n",
    "max = 160\n",
    "Studying 114–160 hours per week = 16–23 hours per day, this is  unrealistic\n",
    "\n",
    "Python Scores\n",
    "min = 15\n",
    "max = 91\n",
    "Range is 15–91, which is valid as scores should be between 0–100, So No unrealistic values here.\n",
    "\n",
    "DB Scores\n",
    "min = 30\n",
    "max = 100\n",
    "Range is 30–100, also validas as scores should be between 0–100, So No unrealistic values here."
   ]
  },
  {
   "cell_type": "code",
   "execution_count": 39,
   "id": "553a28aa-a657-49d5-9692-c28a2cf61597",
   "metadata": {},
   "outputs": [
    {
     "data": {
      "image/png": "[encoded data removed]",
      "text/plain": [
       "<Figure size 640x480 with 1 Axes>"
      ]
     },
     "metadata": {},
     "output_type": "display_data"
    },
    {
     "data": {
      "image/png": "[encoded data removed]",
      "text/plain": [
       "<Figure size 640x480 with 1 Axes>"
      ]
     },
     "metadata": {},
     "output_type": "display_data"
    },
    {
     "data": {
      "image/png": "[encoded data removed]",
      "text/plain": [
       "<Figure size 640x480 with 1 Axes>"
      ]
     },
     "metadata": {},
     "output_type": "display_data"
    }
   ],
   "source": [
    "for col in ['studyHOURS', 'Python', 'DB']:\n",
    "    sns.boxplot(x=df[col])\n",
    "    plt.title(f'Boxplot of {col}')\n",
    "    plt.show()"
   ]
  },
  {
   "cell_type": "markdown",
   "id": "f425d726-5a12-4587-8d4f-6150cbeee607",
   "metadata": {},
   "source": [
    "## Handle outliers"
   ]
  },
  {
   "cell_type": "code",
   "execution_count": 41,
   "id": "2c99454e-6baa-42f9-bb3c-4b7393adcfad",
   "metadata": {},
   "outputs": [
    {
     "data": {
      "text/plain": [
       "(77, 11)"
      ]
     },
     "execution_count": 41,
     "metadata": {},
     "output_type": "execute_result"
    }
   ],
   "source": [
    "# Remove rows with scores outside 0–100\n",
    "df_sample = df.copy()\n",
    "df_sample = df_sample[(df_sample['Python'].between(0, 100)) & (df_sample['DB'].between(0, 100))]\n",
    "\n",
    "df_sample.shape"
   ]
  },
  {
   "cell_type": "code",
   "execution_count": 42,
   "id": "b2ae84bd-895e-4d99-8e2b-89d8353f3af2",
   "metadata": {},
   "outputs": [],
   "source": [
    "#  IQR method\n",
    "def remove_outliers_iqr(data, column):\n",
    "    Q1 = data[column].quantile(0.25)\n",
    "    Q3 = data[column].quantile(0.75)\n",
    "    IQR = Q3 - Q1\n",
    "    lower = Q1 - 1.5 * IQR\n",
    "    upper = Q3 + 1.5 * IQR\n",
    "    return data[(data[column] >= lower) & (data[column] <= upper)]\n",
    "\n",
    "df = remove_outliers_iqr(df, 'studyHOURS')\n",
    "df = remove_outliers_iqr(df, 'Python')\n",
    "df = remove_outliers_iqr(df, 'DB')"
   ]
  },
  {
   "cell_type": "code",
   "execution_count": 43,
   "id": "48b86bb2-0c98-46d7-8388-30e7d54f183b",
   "metadata": {},
   "outputs": [
    {
     "data": {
      "text/plain": [
       "(64, 11)"
      ]
     },
     "execution_count": 43,
     "metadata": {},
     "output_type": "execute_result"
    }
   ],
   "source": [
    "df.shape"
   ]
  },
  {
   "cell_type": "code",
   "execution_count": 44,
   "id": "8ad722d9-ea85-470b-a319-56719075f41c",
   "metadata": {},
   "outputs": [],
   "source": [
    "#df.to_csv(\"cleaned_students.csv\", index=False)"
   ]
  },
  {
   "cell_type": "markdown",
   "id": "7a3aaa9a-50bb-4e30-80d3-b8dbb8251704",
   "metadata": {},
   "source": [
    "# Part 4: Feature Engineering"
   ]
  },
  {
   "cell_type": "code",
   "execution_count": 101,
   "id": "d0924658-2bb5-4b1a-8869-f0d4296c28ab",
   "metadata": {},
   "outputs": [
    {
     "data": {
      "text/html": [
       "<div>\n",
       "<style scoped>\n",
       "    .dataframe tbody tr th:only-of-type {\n",
       "        vertical-align: middle;\n",
       "    }\n",
       "\n",
       "    .dataframe tbody tr th {\n",
       "        vertical-align: top;\n",
       "    }\n",
       "\n",
       "    .dataframe thead th {\n",
       "        text-align: right;\n",
       "    }\n",
       "</style>\n",
       "<table border=\"1\" class=\"dataframe\">\n",
       "  <thead>\n",
       "    <tr style=\"text-align: right;\">\n",
       "      <th></th>\n",
       "      <th>fNAME</th>\n",
       "      <th>lNAME</th>\n",
       "      <th>Age</th>\n",
       "      <th>gender</th>\n",
       "      <th>country</th>\n",
       "      <th>residence</th>\n",
       "      <th>entryEXAM</th>\n",
       "      <th>prevEducation</th>\n",
       "      <th>studyHOURS</th>\n",
       "      <th>Python</th>\n",
       "      <th>DB</th>\n",
       "      <th>ProgrammingAvg</th>\n",
       "      <th>isAdult</th>\n",
       "      <th>studyHOURS_cat</th>\n",
       "    </tr>\n",
       "  </thead>\n",
       "  <tbody>\n",
       "    <tr>\n",
       "      <th>2</th>\n",
       "      <td>Philip</td>\n",
       "      <td>Leo</td>\n",
       "      <td>25</td>\n",
       "      <td>Male</td>\n",
       "      <td>Uganda</td>\n",
       "      <td>Sognsvann</td>\n",
       "      <td>55</td>\n",
       "      <td>High School</td>\n",
       "      <td>130</td>\n",
       "      <td>74.0</td>\n",
       "      <td>50</td>\n",
       "      <td>99.0</td>\n",
       "      <td>1</td>\n",
       "      <td>High</td>\n",
       "    </tr>\n",
       "    <tr>\n",
       "      <th>5</th>\n",
       "      <td>Hannah</td>\n",
       "      <td>Hansen</td>\n",
       "      <td>25</td>\n",
       "      <td>Female</td>\n",
       "      <td>Norway</td>\n",
       "      <td>BI Residence</td>\n",
       "      <td>66</td>\n",
       "      <td>High School</td>\n",
       "      <td>130</td>\n",
       "      <td>88.0</td>\n",
       "      <td>59</td>\n",
       "      <td>117.5</td>\n",
       "      <td>1</td>\n",
       "      <td>High</td>\n",
       "    </tr>\n",
       "    <tr>\n",
       "      <th>6</th>\n",
       "      <td>Ole</td>\n",
       "      <td>Johansen</td>\n",
       "      <td>27</td>\n",
       "      <td>Male</td>\n",
       "      <td>Norway</td>\n",
       "      <td>BI-Residence</td>\n",
       "      <td>90</td>\n",
       "      <td>Bachelors</td>\n",
       "      <td>156</td>\n",
       "      <td>80.0</td>\n",
       "      <td>91</td>\n",
       "      <td>125.5</td>\n",
       "      <td>1</td>\n",
       "      <td>High</td>\n",
       "    </tr>\n",
       "    <tr>\n",
       "      <th>7</th>\n",
       "      <td>Lars</td>\n",
       "      <td>Olsen</td>\n",
       "      <td>29</td>\n",
       "      <td>Male</td>\n",
       "      <td>Norway</td>\n",
       "      <td>BIResidence</td>\n",
       "      <td>89</td>\n",
       "      <td>Bachelors</td>\n",
       "      <td>160</td>\n",
       "      <td>85.0</td>\n",
       "      <td>60</td>\n",
       "      <td>115.0</td>\n",
       "      <td>1</td>\n",
       "      <td>High</td>\n",
       "    </tr>\n",
       "    <tr>\n",
       "      <th>8</th>\n",
       "      <td>Bjørn</td>\n",
       "      <td>Larsen</td>\n",
       "      <td>31</td>\n",
       "      <td>Male</td>\n",
       "      <td>Norway</td>\n",
       "      <td>BI Residence</td>\n",
       "      <td>88</td>\n",
       "      <td>Bachelors</td>\n",
       "      <td>156</td>\n",
       "      <td>80.0</td>\n",
       "      <td>89</td>\n",
       "      <td>124.5</td>\n",
       "      <td>1</td>\n",
       "      <td>High</td>\n",
       "    </tr>\n",
       "  </tbody>\n",
       "</table>\n",
       "</div>"
      ],
      "text/plain": [
       "    fNAME     lNAME  Age  gender country     residence  entryEXAM  \\\n",
       "2  Philip       Leo   25    Male  Uganda     Sognsvann         55   \n",
       "5  Hannah    Hansen   25  Female  Norway  BI Residence         66   \n",
       "6     Ole  Johansen   27    Male  Norway  BI-Residence         90   \n",
       "7    Lars     Olsen   29    Male  Norway   BIResidence         89   \n",
       "8   Bjørn    Larsen   31    Male  Norway  BI Residence         88   \n",
       "\n",
       "  prevEducation  studyHOURS  Python  DB  ProgrammingAvg  isAdult  \\\n",
       "2   High School         130    74.0  50            99.0        1   \n",
       "5   High School         130    88.0  59           117.5        1   \n",
       "6     Bachelors         156    80.0  91           125.5        1   \n",
       "7     Bachelors         160    85.0  60           115.0        1   \n",
       "8     Bachelors         156    80.0  89           124.5        1   \n",
       "\n",
       "  studyHOURS_cat  \n",
       "2           High  \n",
       "5           High  \n",
       "6           High  \n",
       "7           High  \n",
       "8           High  "
      ]
     },
     "execution_count": 101,
     "metadata": {},
     "output_type": "execute_result"
    }
   ],
   "source": [
    "df['ProgrammingAvg'] = (df['Python'] + df['DB'] / 2)\n",
    "df['isAdult'] = (df['Age'] >= 25).astype(int)\n",
    "\n",
    "def categorize_studyhours(x):\n",
    "    if x <= 10:\n",
    "        return \"Low\"\n",
    "    elif x<=30:\n",
    "        return \"Medium\"\n",
    "    else:\n",
    "        return \"High\"\n",
    "df['studyHOURS_cat'] = df['studyHOURS'].apply(categorize_studyhours)\n",
    "df.head()"
   ]
  },
  {
   "cell_type": "markdown",
   "id": "59e4baa6-851e-4767-8085-6cf2efc5c833",
   "metadata": {},
   "source": [
    "## Question: Which engineered feature do you think would add the most predictive power to the model?\n",
    "#### ProgrammingAvg would add the most predictive power to the model, because it combines betweem Python & DB scores."
   ]
  },
  {
   "cell_type": "markdown",
   "id": "050fd03b-5d92-4116-9dab-7d1b10820f40",
   "metadata": {},
   "source": [
    "# Part 5: Feature Scaling"
   ]
  },
  {
   "cell_type": "markdown",
   "id": "9afde866-c5ed-4e83-94c7-0de58fe86386",
   "metadata": {},
   "source": [
    "## Detect numeric columns"
   ]
  },
  {
   "cell_type": "code",
   "execution_count": 109,
   "id": "fb69672c-21f6-41ae-aa62-2bb2218295eb",
   "metadata": {},
   "outputs": [
    {
     "data": {
      "text/plain": [
       "Index(['Age', 'entryEXAM', 'studyHOURS', 'Python', 'DB', 'ProgrammingAvg'], dtype='object')"
      ]
     },
     "execution_count": 109,
     "metadata": {},
     "output_type": "execute_result"
    }
   ],
   "source": [
    "numeric_cols = df.select_dtypes(include=['int64','float64']).columns\n",
    "numeric_cols"
   ]
  },
  {
   "cell_type": "markdown",
   "id": "62279b34-7ec8-42c1-b4fd-7450c8317952",
   "metadata": {},
   "source": [
    "## Apply Scaling"
   ]
  },
  {
   "cell_type": "markdown",
   "id": "6ab66d1b-e4ac-4aec-8b7e-adc3299cc444",
   "metadata": {},
   "source": [
    "### Option 1: StandardScaler (mean=0, std=1)"
   ]
  },
  {
   "cell_type": "code",
   "execution_count": 130,
   "id": "a658c057-6414-4f4a-be88-bcc16cfad254",
   "metadata": {},
   "outputs": [
    {
     "data": {
      "text/html": [
       "<div>\n",
       "<style scoped>\n",
       "    .dataframe tbody tr th:only-of-type {\n",
       "        vertical-align: middle;\n",
       "    }\n",
       "\n",
       "    .dataframe tbody tr th {\n",
       "        vertical-align: top;\n",
       "    }\n",
       "\n",
       "    .dataframe thead th {\n",
       "        text-align: right;\n",
       "    }\n",
       "</style>\n",
       "<table border=\"1\" class=\"dataframe\">\n",
       "  <thead>\n",
       "    <tr style=\"text-align: right;\">\n",
       "      <th></th>\n",
       "      <th>fNAME</th>\n",
       "      <th>lNAME</th>\n",
       "      <th>Age</th>\n",
       "      <th>gender</th>\n",
       "      <th>country</th>\n",
       "      <th>residence</th>\n",
       "      <th>entryEXAM</th>\n",
       "      <th>prevEducation</th>\n",
       "      <th>studyHOURS</th>\n",
       "      <th>Python</th>\n",
       "      <th>DB</th>\n",
       "      <th>ProgrammingAvg</th>\n",
       "      <th>isAdult</th>\n",
       "      <th>studyHOURS_cat</th>\n",
       "    </tr>\n",
       "  </thead>\n",
       "  <tbody>\n",
       "    <tr>\n",
       "      <th>2</th>\n",
       "      <td>Philip</td>\n",
       "      <td>Leo</td>\n",
       "      <td>-1.135224</td>\n",
       "      <td>Male</td>\n",
       "      <td>Uganda</td>\n",
       "      <td>Sognsvann</td>\n",
       "      <td>-2.115336</td>\n",
       "      <td>High School</td>\n",
       "      <td>-3.309518</td>\n",
       "      <td>-1.042043</td>\n",
       "      <td>-1.333821</td>\n",
       "      <td>-1.427328</td>\n",
       "      <td>1</td>\n",
       "      <td>High</td>\n",
       "    </tr>\n",
       "    <tr>\n",
       "      <th>5</th>\n",
       "      <td>Hannah</td>\n",
       "      <td>Hansen</td>\n",
       "      <td>-1.135224</td>\n",
       "      <td>Female</td>\n",
       "      <td>Norway</td>\n",
       "      <td>BI Residence</td>\n",
       "      <td>-1.227324</td>\n",
       "      <td>High School</td>\n",
       "      <td>-3.309518</td>\n",
       "      <td>1.066264</td>\n",
       "      <td>-0.783476</td>\n",
       "      <td>0.053981</td>\n",
       "      <td>1</td>\n",
       "      <td>High</td>\n",
       "    </tr>\n",
       "    <tr>\n",
       "      <th>6</th>\n",
       "      <td>Ole</td>\n",
       "      <td>Johansen</td>\n",
       "      <td>-0.914725</td>\n",
       "      <td>Male</td>\n",
       "      <td>Norway</td>\n",
       "      <td>BI-Residence</td>\n",
       "      <td>0.710158</td>\n",
       "      <td>Bachelors</td>\n",
       "      <td>0.289853</td>\n",
       "      <td>-0.138483</td>\n",
       "      <td>1.173304</td>\n",
       "      <td>0.694547</td>\n",
       "      <td>1</td>\n",
       "      <td>High</td>\n",
       "    </tr>\n",
       "    <tr>\n",
       "      <th>7</th>\n",
       "      <td>Lars</td>\n",
       "      <td>Olsen</td>\n",
       "      <td>-0.694226</td>\n",
       "      <td>Male</td>\n",
       "      <td>Norway</td>\n",
       "      <td>BIResidence</td>\n",
       "      <td>0.629429</td>\n",
       "      <td>Bachelors</td>\n",
       "      <td>0.843603</td>\n",
       "      <td>0.614484</td>\n",
       "      <td>-0.722327</td>\n",
       "      <td>-0.146196</td>\n",
       "      <td>1</td>\n",
       "      <td>High</td>\n",
       "    </tr>\n",
       "    <tr>\n",
       "      <th>8</th>\n",
       "      <td>Bjørn</td>\n",
       "      <td>Larsen</td>\n",
       "      <td>-0.473728</td>\n",
       "      <td>Male</td>\n",
       "      <td>Norway</td>\n",
       "      <td>BI Residence</td>\n",
       "      <td>0.548701</td>\n",
       "      <td>Bachelors</td>\n",
       "      <td>0.289853</td>\n",
       "      <td>-0.138483</td>\n",
       "      <td>1.051005</td>\n",
       "      <td>0.614476</td>\n",
       "      <td>1</td>\n",
       "      <td>High</td>\n",
       "    </tr>\n",
       "  </tbody>\n",
       "</table>\n",
       "</div>"
      ],
      "text/plain": [
       "    fNAME     lNAME       Age  gender country     residence  entryEXAM  \\\n",
       "2  Philip       Leo -1.135224    Male  Uganda     Sognsvann  -2.115336   \n",
       "5  Hannah    Hansen -1.135224  Female  Norway  BI Residence  -1.227324   \n",
       "6     Ole  Johansen -0.914725    Male  Norway  BI-Residence   0.710158   \n",
       "7    Lars     Olsen -0.694226    Male  Norway   BIResidence   0.629429   \n",
       "8   Bjørn    Larsen -0.473728    Male  Norway  BI Residence   0.548701   \n",
       "\n",
       "  prevEducation  studyHOURS    Python        DB  ProgrammingAvg  isAdult  \\\n",
       "2   High School   -3.309518 -1.042043 -1.333821       -1.427328        1   \n",
       "5   High School   -3.309518  1.066264 -0.783476        0.053981        1   \n",
       "6     Bachelors    0.289853 -0.138483  1.173304        0.694547        1   \n",
       "7     Bachelors    0.843603  0.614484 -0.722327       -0.146196        1   \n",
       "8     Bachelors    0.289853 -0.138483  1.051005        0.614476        1   \n",
       "\n",
       "  studyHOURS_cat  \n",
       "2           High  \n",
       "5           High  \n",
       "6           High  \n",
       "7           High  \n",
       "8           High  "
      ]
     },
     "execution_count": 130,
     "metadata": {},
     "output_type": "execute_result"
    }
   ],
   "source": [
    "from sklearn.preprocessing import StandardScaler\n",
    "\n",
    "scaler = StandardScaler()\n",
    "df[numeric_cols] = scaler.fit_transform(df[numeric_cols])\n",
    "\n",
    "df.head()"
   ]
  },
  {
   "cell_type": "markdown",
   "id": "f615962c-61a2-4ce1-b18f-0f9207df670a",
   "metadata": {},
   "source": [
    "### Option 2: MinMaxScaler (range 0–1)"
   ]
  },
  {
   "cell_type": "code",
   "execution_count": 133,
   "id": "8337fbc6-d842-402d-9e2b-3cd8c7ea4fb4",
   "metadata": {},
   "outputs": [
    {
     "data": {
      "text/html": [
       "<div>\n",
       "<style scoped>\n",
       "    .dataframe tbody tr th:only-of-type {\n",
       "        vertical-align: middle;\n",
       "    }\n",
       "\n",
       "    .dataframe tbody tr th {\n",
       "        vertical-align: top;\n",
       "    }\n",
       "\n",
       "    .dataframe thead th {\n",
       "        text-align: right;\n",
       "    }\n",
       "</style>\n",
       "<table border=\"1\" class=\"dataframe\">\n",
       "  <thead>\n",
       "    <tr style=\"text-align: right;\">\n",
       "      <th></th>\n",
       "      <th>fNAME</th>\n",
       "      <th>lNAME</th>\n",
       "      <th>Age</th>\n",
       "      <th>gender</th>\n",
       "      <th>country</th>\n",
       "      <th>residence</th>\n",
       "      <th>entryEXAM</th>\n",
       "      <th>prevEducation</th>\n",
       "      <th>studyHOURS</th>\n",
       "      <th>Python</th>\n",
       "      <th>DB</th>\n",
       "      <th>ProgrammingAvg</th>\n",
       "      <th>isAdult</th>\n",
       "      <th>studyHOURS_cat</th>\n",
       "    </tr>\n",
       "  </thead>\n",
       "  <tbody>\n",
       "    <tr>\n",
       "      <th>2</th>\n",
       "      <td>Philip</td>\n",
       "      <td>Leo</td>\n",
       "      <td>0.083333</td>\n",
       "      <td>Male</td>\n",
       "      <td>Uganda</td>\n",
       "      <td>Sognsvann</td>\n",
       "      <td>0.317460</td>\n",
       "      <td>High School</td>\n",
       "      <td>0.000000</td>\n",
       "      <td>0.448276</td>\n",
       "      <td>0.253731</td>\n",
       "      <td>0.264706</td>\n",
       "      <td>1</td>\n",
       "      <td>High</td>\n",
       "    </tr>\n",
       "    <tr>\n",
       "      <th>5</th>\n",
       "      <td>Hannah</td>\n",
       "      <td>Hansen</td>\n",
       "      <td>0.083333</td>\n",
       "      <td>Female</td>\n",
       "      <td>Norway</td>\n",
       "      <td>BI Residence</td>\n",
       "      <td>0.492063</td>\n",
       "      <td>High School</td>\n",
       "      <td>0.000000</td>\n",
       "      <td>0.931034</td>\n",
       "      <td>0.388060</td>\n",
       "      <td>0.627451</td>\n",
       "      <td>1</td>\n",
       "      <td>High</td>\n",
       "    </tr>\n",
       "    <tr>\n",
       "      <th>6</th>\n",
       "      <td>Ole</td>\n",
       "      <td>Johansen</td>\n",
       "      <td>0.125000</td>\n",
       "      <td>Male</td>\n",
       "      <td>Norway</td>\n",
       "      <td>BI-Residence</td>\n",
       "      <td>0.873016</td>\n",
       "      <td>Bachelors</td>\n",
       "      <td>0.866667</td>\n",
       "      <td>0.655172</td>\n",
       "      <td>0.865672</td>\n",
       "      <td>0.784314</td>\n",
       "      <td>1</td>\n",
       "      <td>High</td>\n",
       "    </tr>\n",
       "    <tr>\n",
       "      <th>7</th>\n",
       "      <td>Lars</td>\n",
       "      <td>Olsen</td>\n",
       "      <td>0.166667</td>\n",
       "      <td>Male</td>\n",
       "      <td>Norway</td>\n",
       "      <td>BIResidence</td>\n",
       "      <td>0.857143</td>\n",
       "      <td>Bachelors</td>\n",
       "      <td>1.000000</td>\n",
       "      <td>0.827586</td>\n",
       "      <td>0.402985</td>\n",
       "      <td>0.578431</td>\n",
       "      <td>1</td>\n",
       "      <td>High</td>\n",
       "    </tr>\n",
       "    <tr>\n",
       "      <th>8</th>\n",
       "      <td>Bjørn</td>\n",
       "      <td>Larsen</td>\n",
       "      <td>0.208333</td>\n",
       "      <td>Male</td>\n",
       "      <td>Norway</td>\n",
       "      <td>BI Residence</td>\n",
       "      <td>0.841270</td>\n",
       "      <td>Bachelors</td>\n",
       "      <td>0.866667</td>\n",
       "      <td>0.655172</td>\n",
       "      <td>0.835821</td>\n",
       "      <td>0.764706</td>\n",
       "      <td>1</td>\n",
       "      <td>High</td>\n",
       "    </tr>\n",
       "  </tbody>\n",
       "</table>\n",
       "</div>"
      ],
      "text/plain": [
       "    fNAME     lNAME       Age  gender country     residence  entryEXAM  \\\n",
       "2  Philip       Leo  0.083333    Male  Uganda     Sognsvann   0.317460   \n",
       "5  Hannah    Hansen  0.083333  Female  Norway  BI Residence   0.492063   \n",
       "6     Ole  Johansen  0.125000    Male  Norway  BI-Residence   0.873016   \n",
       "7    Lars     Olsen  0.166667    Male  Norway   BIResidence   0.857143   \n",
       "8   Bjørn    Larsen  0.208333    Male  Norway  BI Residence   0.841270   \n",
       "\n",
       "  prevEducation  studyHOURS    Python        DB  ProgrammingAvg  isAdult  \\\n",
       "2   High School    0.000000  0.448276  0.253731        0.264706        1   \n",
       "5   High School    0.000000  0.931034  0.388060        0.627451        1   \n",
       "6     Bachelors    0.866667  0.655172  0.865672        0.784314        1   \n",
       "7     Bachelors    1.000000  0.827586  0.402985        0.578431        1   \n",
       "8     Bachelors    0.866667  0.655172  0.835821        0.764706        1   \n",
       "\n",
       "  studyHOURS_cat  \n",
       "2           High  \n",
       "5           High  \n",
       "6           High  \n",
       "7           High  \n",
       "8           High  "
      ]
     },
     "execution_count": 133,
     "metadata": {},
     "output_type": "execute_result"
    }
   ],
   "source": [
    "from sklearn.preprocessing import MinMaxScaler\n",
    "\n",
    "scaler = MinMaxScaler()\n",
    "df[numeric_cols] = scaler.fit_transform(df[numeric_cols])\n",
    "\n",
    "df.head()"
   ]
  },
  {
   "cell_type": "markdown",
   "id": "edf9361c-f5d4-4f00-929e-576251867b9e",
   "metadata": {},
   "source": [
    "# Part 6: Encoding Categorical Data"
   ]
  },
  {
   "cell_type": "code",
   "execution_count": 135,
   "id": "97d64f14-8879-448e-bf2f-09d64cd5f06b",
   "metadata": {},
   "outputs": [
    {
     "data": {
      "text/plain": [
       "Index(['fNAME', 'lNAME', 'gender', 'country', 'residence', 'prevEducation',\n",
       "       'studyHOURS_cat'],\n",
       "      dtype='object')"
      ]
     },
     "execution_count": 135,
     "metadata": {},
     "output_type": "execute_result"
    }
   ],
   "source": [
    "# Detect categorical columns\n",
    "categorical_cols = df.select_dtypes(include=['object']).columns\n",
    "categorical_cols"
   ]
  },
  {
   "cell_type": "code",
   "execution_count": 137,
   "id": "7ee76772-e270-4930-ac17-873ccd954146",
   "metadata": {},
   "outputs": [
    {
     "data": {
      "text/html": [
       "<div>\n",
       "<style scoped>\n",
       "    .dataframe tbody tr th:only-of-type {\n",
       "        vertical-align: middle;\n",
       "    }\n",
       "\n",
       "    .dataframe tbody tr th {\n",
       "        vertical-align: top;\n",
       "    }\n",
       "\n",
       "    .dataframe thead th {\n",
       "        text-align: right;\n",
       "    }\n",
       "</style>\n",
       "<table border=\"1\" class=\"dataframe\">\n",
       "  <thead>\n",
       "    <tr style=\"text-align: right;\">\n",
       "      <th></th>\n",
       "      <th>Age</th>\n",
       "      <th>entryEXAM</th>\n",
       "      <th>studyHOURS</th>\n",
       "      <th>Python</th>\n",
       "      <th>DB</th>\n",
       "      <th>ProgrammingAvg</th>\n",
       "      <th>isAdult</th>\n",
       "      <th>fNAME_Anna</th>\n",
       "      <th>fNAME_Bjørn</th>\n",
       "      <th>fNAME_Camilla</th>\n",
       "      <th>...</th>\n",
       "      <th>country_Uganda</th>\n",
       "      <th>residence_BI-Residence</th>\n",
       "      <th>residence_BIResidence</th>\n",
       "      <th>residence_BI_Residence</th>\n",
       "      <th>residence_Private</th>\n",
       "      <th>residence_Sognsvann</th>\n",
       "      <th>prevEducation_Diploma</th>\n",
       "      <th>prevEducation_Doctorate</th>\n",
       "      <th>prevEducation_High School</th>\n",
       "      <th>prevEducation_Masters</th>\n",
       "    </tr>\n",
       "  </thead>\n",
       "  <tbody>\n",
       "    <tr>\n",
       "      <th>2</th>\n",
       "      <td>0.083333</td>\n",
       "      <td>0.317460</td>\n",
       "      <td>0.000000</td>\n",
       "      <td>0.448276</td>\n",
       "      <td>0.253731</td>\n",
       "      <td>0.264706</td>\n",
       "      <td>1</td>\n",
       "      <td>False</td>\n",
       "      <td>False</td>\n",
       "      <td>False</td>\n",
       "      <td>...</td>\n",
       "      <td>True</td>\n",
       "      <td>False</td>\n",
       "      <td>False</td>\n",
       "      <td>False</td>\n",
       "      <td>False</td>\n",
       "      <td>True</td>\n",
       "      <td>False</td>\n",
       "      <td>False</td>\n",
       "      <td>True</td>\n",
       "      <td>False</td>\n",
       "    </tr>\n",
       "    <tr>\n",
       "      <th>5</th>\n",
       "      <td>0.083333</td>\n",
       "      <td>0.492063</td>\n",
       "      <td>0.000000</td>\n",
       "      <td>0.931034</td>\n",
       "      <td>0.388060</td>\n",
       "      <td>0.627451</td>\n",
       "      <td>1</td>\n",
       "      <td>False</td>\n",
       "      <td>False</td>\n",
       "      <td>False</td>\n",
       "      <td>...</td>\n",
       "      <td>False</td>\n",
       "      <td>False</td>\n",
       "      <td>False</td>\n",
       "      <td>False</td>\n",
       "      <td>False</td>\n",
       "      <td>False</td>\n",
       "      <td>False</td>\n",
       "      <td>False</td>\n",
       "      <td>True</td>\n",
       "      <td>False</td>\n",
       "    </tr>\n",
       "    <tr>\n",
       "      <th>6</th>\n",
       "      <td>0.125000</td>\n",
       "      <td>0.873016</td>\n",
       "      <td>0.866667</td>\n",
       "      <td>0.655172</td>\n",
       "      <td>0.865672</td>\n",
       "      <td>0.784314</td>\n",
       "      <td>1</td>\n",
       "      <td>False</td>\n",
       "      <td>False</td>\n",
       "      <td>False</td>\n",
       "      <td>...</td>\n",
       "      <td>False</td>\n",
       "      <td>True</td>\n",
       "      <td>False</td>\n",
       "      <td>False</td>\n",
       "      <td>False</td>\n",
       "      <td>False</td>\n",
       "      <td>False</td>\n",
       "      <td>False</td>\n",
       "      <td>False</td>\n",
       "      <td>False</td>\n",
       "    </tr>\n",
       "    <tr>\n",
       "      <th>7</th>\n",
       "      <td>0.166667</td>\n",
       "      <td>0.857143</td>\n",
       "      <td>1.000000</td>\n",
       "      <td>0.827586</td>\n",
       "      <td>0.402985</td>\n",
       "      <td>0.578431</td>\n",
       "      <td>1</td>\n",
       "      <td>False</td>\n",
       "      <td>False</td>\n",
       "      <td>False</td>\n",
       "      <td>...</td>\n",
       "      <td>False</td>\n",
       "      <td>False</td>\n",
       "      <td>True</td>\n",
       "      <td>False</td>\n",
       "      <td>False</td>\n",
       "      <td>False</td>\n",
       "      <td>False</td>\n",
       "      <td>False</td>\n",
       "      <td>False</td>\n",
       "      <td>False</td>\n",
       "    </tr>\n",
       "    <tr>\n",
       "      <th>8</th>\n",
       "      <td>0.208333</td>\n",
       "      <td>0.841270</td>\n",
       "      <td>0.866667</td>\n",
       "      <td>0.655172</td>\n",
       "      <td>0.835821</td>\n",
       "      <td>0.764706</td>\n",
       "      <td>1</td>\n",
       "      <td>False</td>\n",
       "      <td>True</td>\n",
       "      <td>False</td>\n",
       "      <td>...</td>\n",
       "      <td>False</td>\n",
       "      <td>False</td>\n",
       "      <td>False</td>\n",
       "      <td>False</td>\n",
       "      <td>False</td>\n",
       "      <td>False</td>\n",
       "      <td>False</td>\n",
       "      <td>False</td>\n",
       "      <td>False</td>\n",
       "      <td>False</td>\n",
       "    </tr>\n",
       "  </tbody>\n",
       "</table>\n",
       "<p>5 rows × 140 columns</p>\n",
       "</div>"
      ],
      "text/plain": [
       "        Age  entryEXAM  studyHOURS    Python        DB  ProgrammingAvg  \\\n",
       "2  0.083333   0.317460    0.000000  0.448276  0.253731        0.264706   \n",
       "5  0.083333   0.492063    0.000000  0.931034  0.388060        0.627451   \n",
       "6  0.125000   0.873016    0.866667  0.655172  0.865672        0.784314   \n",
       "7  0.166667   0.857143    1.000000  0.827586  0.402985        0.578431   \n",
       "8  0.208333   0.841270    0.866667  0.655172  0.835821        0.764706   \n",
       "\n",
       "   isAdult  fNAME_Anna  fNAME_Bjørn  fNAME_Camilla  ...  country_Uganda  \\\n",
       "2        1       False        False          False  ...            True   \n",
       "5        1       False        False          False  ...           False   \n",
       "6        1       False        False          False  ...           False   \n",
       "7        1       False        False          False  ...           False   \n",
       "8        1       False         True          False  ...           False   \n",
       "\n",
       "   residence_BI-Residence  residence_BIResidence  residence_BI_Residence  \\\n",
       "2                   False                  False                   False   \n",
       "5                   False                  False                   False   \n",
       "6                    True                  False                   False   \n",
       "7                   False                   True                   False   \n",
       "8                   False                  False                   False   \n",
       "\n",
       "   residence_Private  residence_Sognsvann  prevEducation_Diploma  \\\n",
       "2              False                 True                  False   \n",
       "5              False                False                  False   \n",
       "6              False                False                  False   \n",
       "7              False                False                  False   \n",
       "8              False                False                  False   \n",
       "\n",
       "   prevEducation_Doctorate  prevEducation_High School  prevEducation_Masters  \n",
       "2                    False                       True                  False  \n",
       "5                    False                       True                  False  \n",
       "6                    False                      False                  False  \n",
       "7                    False                      False                  False  \n",
       "8                    False                      False                  False  \n",
       "\n",
       "[5 rows x 140 columns]"
      ]
     },
     "execution_count": 137,
     "metadata": {},
     "output_type": "execute_result"
    }
   ],
   "source": [
    "# One-hot encode categorical columns\n",
    "df_encoded = pd.get_dummies(df, columns = categorical_cols, drop_first = True)\n",
    "df_encoded.head()"
   ]
  },
  {
   "cell_type": "code",
   "execution_count": 139,
   "id": "443a6652-5c16-4908-a2e2-80193e096071",
   "metadata": {},
   "outputs": [],
   "source": [
    "df.to_csv(\"cleaned_students.csv\", index=False)"
   ]
  },
  {
   "cell_type": "code",
   "execution_count": null,
   "id": "7fa26263-a521-4995-b07a-7ffdd891475f",
   "metadata": {},
   "outputs": [],
   "source": []
  }
 ],
 "metadata": {
  "kernelspec": {
   "display_name": "Python 3 (ipykernel)",
   "language": "python",
   "name": "python3"
  },
  "language_info": {
   "codemirror_mode": {
    "name": "ipython",
    "version": 3
   },
   "file_extension": ".py",
   "mimetype": "text/x-python",
   "name": "python",
   "nbconvert_exporter": "python",
   "pygments_lexer": "ipython3",
   "version": "3.12.4"
  }
 },
 "nbformat": 4,
 "nbformat_minor": 5
}
